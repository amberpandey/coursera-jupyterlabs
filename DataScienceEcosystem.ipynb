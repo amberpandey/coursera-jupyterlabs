{
 "cells": [
  {
   "cell_type": "markdown",
   "id": "29acd0db-1142-4b68-8420-5dc37ac143c0",
   "metadata": {},
   "source": [
    "# Data Science Tools and Ecosystem\n",
    "In this notebook, Data Science Tools and Ecosystem are summarized."
   ]
  },
  {
   "cell_type": "markdown",
   "id": "4f54cf07-75de-49be-906f-385064e1884b",
   "metadata": {},
   "source": [
    "**Objectives:**\n",
    "- List popular Languages for DataScience\n",
    "- List Popular Libraries\n",
    "- Create and display DS Tools in table format\n",
    "- Show Arithmetic code execution by code cell"
   ]
  },
  {
   "cell_type": "markdown",
   "id": "ed51f9d9-1174-423a-b497-bdb95bd58dee",
   "metadata": {
    "tags": []
   },
   "source": [
    "Some of the popular languages that Data Scientists use are:\n",
    "1. Python\n",
    "2. R\n",
    "3. Julia"
   ]
  },
  {
   "cell_type": "markdown",
   "id": "2106c314-bdf8-43cd-88c6-60f679de081a",
   "metadata": {},
   "source": [
    "Some of the commonly used libraries used by Data Scientists include:\n",
    "1. MatPlotLib\n",
    "2. Scipy\n",
    "3. Numpy"
   ]
  },
  {
   "cell_type": "markdown",
   "id": "ea4596f6-fc24-4350-8529-8795b33643fb",
   "metadata": {},
   "source": [
    "|Data Science Tools  |\n",
    "|--------------------|\n",
    "|Jupyter Notebooks   |\n",
    "|RStudio             |\n",
    "|Spyder              |"
   ]
  },
  {
   "cell_type": "markdown",
   "id": "4fb6b1da-9a1f-47cd-af24-363526f3ce7b",
   "metadata": {
    "tags": []
   },
   "source": [
    "### Below are a few examples of evaluating arithmetic expressions in Python"
   ]
  },
  {
   "cell_type": "code",
   "execution_count": 5,
   "id": "5ea4d924-0024-4713-9b5b-821bc3e9ea8d",
   "metadata": {
    "tags": []
   },
   "outputs": [
    {
     "data": {
      "text/plain": [
       "17"
      ]
     },
     "execution_count": 5,
     "metadata": {},
     "output_type": "execute_result"
    }
   ],
   "source": [
    "# This a simple arithmetic expression to mutiply then add integers\n",
    "(3 * 4) + 5"
   ]
  },
  {
   "cell_type": "code",
   "execution_count": 7,
   "id": "4d71a091-aff7-454b-97c5-aeb953004e84",
   "metadata": {
    "tags": []
   },
   "outputs": [
    {
     "data": {
      "text/plain": [
       "3.3333333333333335"
      ]
     },
     "execution_count": 7,
     "metadata": {},
     "output_type": "execute_result"
    }
   ],
   "source": [
    "# This will convert 200 minutes to hours by diving by 60\n",
    "hours = 200/60\n",
    "hours"
   ]
  },
  {
   "cell_type": "markdown",
   "id": "edca6703-8026-4e83-ba2b-61a9a5219f4d",
   "metadata": {},
   "source": [
    "## Author\n",
    "Amber"
   ]
  },
  {
   "cell_type": "code",
   "execution_count": null,
   "id": "195f2667-dc8f-4585-92e9-f024028d2205",
   "metadata": {},
   "outputs": [],
   "source": []
  }
 ],
 "metadata": {
  "kernelspec": {
   "display_name": "Python",
   "language": "python",
   "name": "conda-env-python-py"
  },
  "language_info": {
   "codemirror_mode": {
    "name": "ipython",
    "version": 3
   },
   "file_extension": ".py",
   "mimetype": "text/x-python",
   "name": "python",
   "nbconvert_exporter": "python",
   "pygments_lexer": "ipython3",
   "version": "3.7.12"
  }
 },
 "nbformat": 4,
 "nbformat_minor": 5
}
